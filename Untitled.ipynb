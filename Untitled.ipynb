{
 "cells": [
  {
   "cell_type": "code",
   "execution_count": 1,
   "id": "e3da7086-4445-4aac-9114-989bff1d1874",
   "metadata": {},
   "outputs": [
    {
     "name": "stdout",
     "output_type": "stream",
     "text": [
      "\n",
      "--- Welcome to the Bank ---\n",
      "1. User Login\n",
      "2. Exit\n"
     ]
    },
    {
     "name": "stdin",
     "output_type": "stream",
     "text": [
      "Enter your choice:  1\n"
     ]
    },
    {
     "name": "stdout",
     "output_type": "stream",
     "text": [
      "\n",
      "--- User Menu ---\n",
      "1. Open a new account\n",
      "2. Deposit money\n",
      "3. Withdraw money\n",
      "4. Transfer money\n",
      "5. Check account balance\n",
      "6. View transaction statement\n",
      "7. Exit\n"
     ]
    },
    {
     "name": "stdin",
     "output_type": "stream",
     "text": [
      "Enter your choice:  1\n",
      "Enter your name:  Muzammil raza\n",
      "Enter the initial deposit amount (default $0):  2000\n"
     ]
    },
    {
     "name": "stdout",
     "output_type": "stream",
     "text": [
      "Account created for Muzammil raza. Account number: ACC38795\n",
      "\n",
      "--- User Menu ---\n",
      "1. Open a new account\n",
      "2. Deposit money\n",
      "3. Withdraw money\n",
      "4. Transfer money\n",
      "5. Check account balance\n",
      "6. View transaction statement\n",
      "7. Exit\n"
     ]
    },
    {
     "name": "stdin",
     "output_type": "stream",
     "text": [
      "Enter your choice:  2\n",
      "Enter your account name:  Muzammil raza\n",
      "Enter the deposit amount:  10000\n"
     ]
    },
    {
     "name": "stdout",
     "output_type": "stream",
     "text": [
      "Deposited: $10000.0\n",
      "\n",
      "--- User Menu ---\n",
      "1. Open a new account\n",
      "2. Deposit money\n",
      "3. Withdraw money\n",
      "4. Transfer money\n",
      "5. Check account balance\n",
      "6. View transaction statement\n",
      "7. Exit\n"
     ]
    },
    {
     "name": "stdin",
     "output_type": "stream",
     "text": [
      "Enter your choice:  3\n",
      "Enter your account name:  Muzammil raza\n",
      "Enter the withdrawal amount:  5000\n"
     ]
    },
    {
     "name": "stdout",
     "output_type": "stream",
     "text": [
      "Withdrew: $5000.0\n",
      "\n",
      "--- User Menu ---\n",
      "1. Open a new account\n",
      "2. Deposit money\n",
      "3. Withdraw money\n",
      "4. Transfer money\n",
      "5. Check account balance\n",
      "6. View transaction statement\n",
      "7. Exit\n"
     ]
    },
    {
     "name": "stdin",
     "output_type": "stream",
     "text": [
      "Enter your choice:  5\n",
      "Enter your account name:  Muzammil raza\n"
     ]
    },
    {
     "name": "stdout",
     "output_type": "stream",
     "text": [
      "Account Balance: $7000.0\n",
      "\n",
      "--- User Menu ---\n",
      "1. Open a new account\n",
      "2. Deposit money\n",
      "3. Withdraw money\n",
      "4. Transfer money\n",
      "5. Check account balance\n",
      "6. View transaction statement\n",
      "7. Exit\n"
     ]
    },
    {
     "name": "stdin",
     "output_type": "stream",
     "text": [
      "Enter your choice:  7\n"
     ]
    },
    {
     "name": "stdout",
     "output_type": "stream",
     "text": [
      "Thank you for using the banking system!\n",
      "\n",
      "--- Welcome to the Bank ---\n",
      "1. User Login\n",
      "2. Exit\n"
     ]
    },
    {
     "name": "stdin",
     "output_type": "stream",
     "text": [
      "Enter your choice:  2\n"
     ]
    },
    {
     "name": "stdout",
     "output_type": "stream",
     "text": [
      "Exiting the system.\n"
     ]
    }
   ],
   "source": [
    "import random\n",
    "\n",
    "class BankAccount:\n",
    "    def __init__(self, account_holder, initial_balance=0):\n",
    "        self.account_holder = account_holder\n",
    "        self.balance = initial_balance\n",
    "        self.transaction_history = []\n",
    "        self.account_number = self.generate_account_number()\n",
    "    \n",
    "    def generate_account_number(self):\n",
    "        # Generate a unique account number\n",
    "        return f\"ACC{random.randint(10000, 99999)}\"\n",
    "\n",
    "    def deposit(self, amount):\n",
    "        if amount > 0:\n",
    "            self.balance += amount\n",
    "            self.transaction_history.append(f\"Deposited: ${amount}\")\n",
    "            print(f\"Deposited: ${amount}\")\n",
    "        else:\n",
    "            print(\"Deposit amount must be positive.\")\n",
    "    \n",
    "    def withdraw(self, amount):\n",
    "        if amount > 0 and amount <= self.balance:\n",
    "            self.balance -= amount\n",
    "            self.transaction_history.append(f\"Withdrew: ${amount}\")\n",
    "            print(f\"Withdrew: ${amount}\")\n",
    "        else:\n",
    "            print(\"Insufficient funds or invalid amount.\")\n",
    "\n",
    "    def transfer(self, amount, recipient_account):\n",
    "        if amount > 0 and amount <= self.balance:\n",
    "            self.balance -= amount\n",
    "            recipient_account.deposit(amount)\n",
    "            self.transaction_history.append(f\"Transferred: ${amount} to {recipient_account.account_holder}\")\n",
    "            print(f\"Transferred: ${amount} to {recipient_account.account_holder}\")\n",
    "        else:\n",
    "            print(\"Insufficient funds for transfer.\")\n",
    "\n",
    "    def get_balance(self):\n",
    "        return self.balance\n",
    "\n",
    "    def get_transaction_history(self):\n",
    "        print(f\"\\nTransaction History for {self.account_holder} ({self.account_number}):\")\n",
    "        if not self.transaction_history:\n",
    "            print(\"No transactions yet.\")\n",
    "        else:\n",
    "            for transaction in self.transaction_history:\n",
    "                print(transaction)\n",
    "\n",
    "class Bank:\n",
    "    def __init__(self):\n",
    "        self.accounts = {}\n",
    "    \n",
    "    def open_account(self, account_holder, initial_balance=0):\n",
    "        if account_holder in self.accounts:\n",
    "            print(\"Account already exists.\")\n",
    "        else:\n",
    "            new_account = BankAccount(account_holder, initial_balance)\n",
    "            self.accounts[account_holder] = new_account\n",
    "            print(f\"Account created for {account_holder}. Account number: {new_account.account_number}\")\n",
    "    \n",
    "    def get_account(self, account_holder):\n",
    "        return self.accounts.get(account_holder, None)\n",
    "\n",
    "# Simulate user interaction\n",
    "def user_interface(bank):\n",
    "    while True:\n",
    "        print(\"\\n--- User Menu ---\")\n",
    "        print(\"1. Open a new account\")\n",
    "        print(\"2. Deposit money\")\n",
    "        print(\"3. Withdraw money\")\n",
    "        print(\"4. Transfer money\")\n",
    "        print(\"5. Check account balance\")\n",
    "        print(\"6. View transaction statement\")\n",
    "        print(\"7. Exit\")\n",
    "        \n",
    "        choice = input(\"Enter your choice: \")\n",
    "        \n",
    "        if choice == '1':\n",
    "            account_holder = input(\"Enter your name: \")\n",
    "            initial_balance = float(input(\"Enter the initial deposit amount (default $0): \") or 0)\n",
    "            bank.open_account(account_holder, initial_balance)\n",
    "            \n",
    "        elif choice == '2':\n",
    "            account_holder = input(\"Enter your account name: \")\n",
    "            account = bank.get_account(account_holder)\n",
    "            if account:\n",
    "                amount = float(input(\"Enter the deposit amount: \"))\n",
    "                account.deposit(amount)\n",
    "            else:\n",
    "                print(\"Account not found.\")\n",
    "                \n",
    "        elif choice == '3':\n",
    "            account_holder = input(\"Enter your account name: \")\n",
    "            account = bank.get_account(account_holder)\n",
    "            if account:\n",
    "                amount = float(input(\"Enter the withdrawal amount: \"))\n",
    "                account.withdraw(amount)\n",
    "            else:\n",
    "                print(\"Account not found.\")\n",
    "                \n",
    "        elif choice == '4':\n",
    "            sender_name = input(\"Enter your account name: \")\n",
    "            sender = bank.get_account(sender_name)\n",
    "            if sender:\n",
    "                recipient_name = input(\"Enter recipient account name: \")\n",
    "                recipient = bank.get_account(recipient_name)\n",
    "                if recipient:\n",
    "                    amount = float(input(\"Enter the transfer amount: \"))\n",
    "                    sender.transfer(amount, recipient)\n",
    "                else:\n",
    "                    print(\"Recipient account not found.\")\n",
    "            else:\n",
    "                print(\"Sender account not found.\")\n",
    "                \n",
    "        elif choice == '5':\n",
    "            account_holder = input(\"Enter your account name: \")\n",
    "            account = bank.get_account(account_holder)\n",
    "            if account:\n",
    "                print(f\"Account Balance: ${account.get_balance()}\")\n",
    "            else:\n",
    "                print(\"Account not found.\")\n",
    "                \n",
    "        elif choice == '6':\n",
    "            account_holder = input(\"Enter your account name: \")\n",
    "            account = bank.get_account(account_holder)\n",
    "            if account:\n",
    "                account.get_transaction_history()\n",
    "            else:\n",
    "                print(\"Account not found.\")\n",
    "                \n",
    "        elif choice == '7':\n",
    "            print(\"Thank you for using the banking system!\")\n",
    "            break\n",
    "        \n",
    "        else:\n",
    "            print(\"Invalid choice, please try again.\")\n",
    "\n",
    "def main():\n",
    "    bank = Bank()\n",
    "    \n",
    "    while True:\n",
    "        print(\"\\n--- Welcome to the Bank ---\")\n",
    "        print(\"1. User Login\")\n",
    "        print(\"2. Exit\")\n",
    "        \n",
    "        role = input(\"Enter your choice: \")\n",
    "        \n",
    "        if role == '1':\n",
    "            user_interface(bank)\n",
    "        elif role == '2':\n",
    "            print(\"Exiting the system.\")\n",
    "            break\n",
    "        else:\n",
    "            print(\"Invalid choice, please try again.\")\n",
    "\n",
    "if __name__ == \"__main__\":\n",
    "    main()\n"
   ]
  },
  {
   "cell_type": "code",
   "execution_count": null,
   "id": "0685a02a-fe7f-420f-96ff-066c551016dc",
   "metadata": {},
   "outputs": [],
   "source": []
  }
 ],
 "metadata": {
  "kernelspec": {
   "display_name": "Python [conda env:base] *",
   "language": "python",
   "name": "conda-base-py"
  },
  "language_info": {
   "codemirror_mode": {
    "name": "ipython",
    "version": 3
   },
   "file_extension": ".py",
   "mimetype": "text/x-python",
   "name": "python",
   "nbconvert_exporter": "python",
   "pygments_lexer": "ipython3",
   "version": "3.12.7"
  }
 },
 "nbformat": 4,
 "nbformat_minor": 5
}
